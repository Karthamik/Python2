{
 "cells": [
  {
   "cell_type": "code",
   "execution_count": 6,
   "id": "05729eab-fc90-4442-8619-476faec2fde7",
   "metadata": {},
   "outputs": [
    {
     "name": "stdout",
     "output_type": "stream",
     "text": [
      "Karthami\n",
      "22\n",
      "Chennai\n",
      "Karthami Karunanithi\n",
      "Chennai\n"
     ]
    }
   ],
   "source": [
    "# Variables - Two Types (Legal and Illegal variable)\n",
    "\n",
    "# 1) Legal Variables Examples:\n",
    "\n",
    "# 1.Variable should be in alphabetic characters\n",
    "Name='Karthami'\n",
    "print(Name)\n",
    "\n",
    "# 2.Number must be mention in last position \n",
    "age1=22\n",
    "print(age1)\n",
    "\n",
    "# 3.Underscore(_) only allowed to be mention in the variable\n",
    "_city='Chennai'\n",
    "print(_city)\n",
    "\n",
    "# 4.Underscore(_) can be mentions first,middle or last position in the variable\n",
    "Phone_number=8015363680\n",
    "print(Phone_number)\n",
    "\n",
    "# 5.Variable name is case sensitive\n",
    "aDDRESS='Chennai'\n",
    "print(aDDRESS)"
   ]
  },
  {
   "cell_type": "code",
   "execution_count": 12,
   "id": "c2ac307b-6d31-4f1f-b112-dab80c33175e",
   "metadata": {},
   "outputs": [
    {
     "ename": "SyntaxError",
     "evalue": "cannot assign to expression here. Maybe you meant '==' instead of '='? (2724681982.py, line 24)",
     "output_type": "error",
     "traceback": [
      "\u001b[1;36m  Cell \u001b[1;32mIn[12], line 24\u001b[1;36m\u001b[0m\n\u001b[1;33m    Phone-number=8015363680\u001b[0m\n\u001b[1;37m    ^\u001b[0m\n\u001b[1;31mSyntaxError\u001b[0m\u001b[1;31m:\u001b[0m cannot assign to expression here. Maybe you meant '==' instead of '='?\n"
     ]
    }
   ],
   "source": [
    "# 2) Illegal Variables Examples:\n",
    "\n",
    "# 1.Number shoudl not come first\n",
    "1age=22\n",
    "print(1age)\n",
    "\n",
    "# 2.Special character not allowed except underscore(_)\n",
    "Name$='Karthami'\n",
    "print(Name$)\n",
    "\n",
    "# 3.Spaces are not allowed in variable name\n",
    "city name='Chennai'\n",
    "print(city name)\n",
    "\n",
    "4.Keywords are not allowed\n",
    "def='Karthami'\n",
    "print(def)\n",
    "\n",
    "# 5.Variable names are Case sensitive\n",
    "Address='Chetpet'\n",
    "print(address)\n",
    "\n",
    "# 6.Hypen are not allowed\n",
    "Phone-number=8015363680\n",
    "print(Phone-number)"
   ]
  },
  {
   "cell_type": "code",
   "execution_count": null,
   "id": "6e55f091-f349-4c80-a9f9-05db7d4c5561",
   "metadata": {},
   "outputs": [],
   "source": []
  }
 ],
 "metadata": {
  "kernelspec": {
   "display_name": "Python 3 (ipykernel)",
   "language": "python",
   "name": "python3"
  },
  "language_info": {
   "codemirror_mode": {
    "name": "ipython",
    "version": 3
   },
   "file_extension": ".py",
   "mimetype": "text/x-python",
   "name": "python",
   "nbconvert_exporter": "python",
   "pygments_lexer": "ipython3",
   "version": "3.13.5"
  }
 },
 "nbformat": 4,
 "nbformat_minor": 5
}
